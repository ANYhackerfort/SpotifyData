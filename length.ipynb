{
 "cells": [
  {
   "cell_type": "code",
   "execution_count": 1,
   "metadata": {},
   "outputs": [
    {
     "name": "stdout",
     "output_type": "stream",
     "text": [
      "the interval of time that most of your music falls into is:  IIIII\n"
     ]
    },
    {
     "data": {
      "image/png": "[encoded data removed]",
      "text/plain": [
       "<Figure size 432x288 with 1 Axes>"
      ]
     },
     "metadata": {
      "needs_background": "light"
     },
     "output_type": "display_data"
    }
   ],
   "source": [
    "import matplotlib.pyplot as plt\n",
    "import pandas as pd\n",
    "\n",
    "User_data = pd.read_csv('data.csv')\n",
    "duration = User_data['duration_ms']\n",
    "\n",
    "musicClip = 0 #10 seconds or less\n",
    "minuteMusic = 0 # 10 seconds - \n",
    "twoMinuteMusic = 0\n",
    "threeMinuteMusic = 0 \n",
    "fourMusic = 0 \n",
    "fiveMusic = 0\n",
    "aboveFive = 0 \n",
    "for item in duration:\n",
    "    if item <= 10000: #less than 10 seconds\n",
    "        musicClip += 1 \n",
    "    if  10000 < item <= 60000:\n",
    "        minuteMusic += 1\n",
    "    if 60000 < item <= 120000:\n",
    "        twoMinuteMusic += 1 \n",
    "    if 120000 < item <= 180000:\n",
    "        threeMinuteMusic += 1 \n",
    "    if 180000 < item <= 240000:\n",
    "        fourMusic += 1\n",
    "    if 240000 < item <= 300000:\n",
    "        fiveMusic += 1\n",
    "    if item > 300000:\n",
    "        aboveFive += 1\n",
    "\n",
    "lengthMusic = []\n",
    "howMany = [musicClip, minuteMusic, twoMinuteMusic, threeMinuteMusic, fourMusic, fiveMusic, aboveFive]\n",
    "i = \" \"\n",
    "for item in howMany:\n",
    "    i += 'I'\n",
    "    lengthMusic.append(i)\n",
    "\n",
    "greatest = 0\n",
    "location = -1\n",
    "for item in howMany:\n",
    "    if item > greatest:\n",
    "        greatest = item\n",
    "        location += 1 \n",
    "    else:\n",
    "        continue\n",
    "\n",
    "print(\"the interval of time that most of your music falls into is: \" + str(lengthMusic[location]))\n",
    "\n",
    "plt.bar(lengthMusic, howMany)\n",
    "plt.show()"
   ]
  },
  {
   "cell_type": "code",
   "execution_count": 39,
   "metadata": {},
   "outputs": [
    {
     "name": "stdout",
     "output_type": "stream",
     "text": [
      "the interval of time that most of your music falls into is: 5\n"
     ]
    },
    {
     "data": {
      "image/png": "[encoded data removed]",
      "text/plain": [
       "<Figure size 432x288 with 1 Axes>"
      ]
     },
     "metadata": {
      "needs_background": "light"
     },
     "output_type": "display_data"
    }
   ],
   "source": [
    "import matplotlib.pyplot as plt\n",
    "import pandas as pd\n",
    "\n",
    "duration = pd.read_csv('data.csv')['duration_ms'].to_list()\n",
    "duration.sort()\n",
    "\n",
    "def count_range_in_list(arr, min, max=None):\n",
    "\tctr = 0\n",
    "\tfor x in arr:\n",
    "\t\tif max != None:\n",
    "\t\t\tif min <= x <= max:\n",
    "\t\t\t\tctr += 1\n",
    "\t\telse:\n",
    "\t\t\tif min <= x:\n",
    "\t\t\t\tctr += 1\n",
    "\treturn ctr\n",
    "\n",
    "items = {}\n",
    "times = [0, 10000, 60000, 120000, 180000, 240000, 300000, None]\n",
    "for i in range(len(times) - 1):\n",
    "\titems[i + 1] = count_range_in_list(duration, times[i], times[i+1])\n",
    "\n",
    "print(\"the interval of time that most of your music falls into is: \" + str(list(items.keys())[list(items.values()).index(max(items.values()))]))\n",
    "x, y = zip(*sorted(items.items()))\n",
    "plt.bar(x, y)\n",
    "plt.show()"
   ]
  }
 ],
 "metadata": {
  "kernelspec": {
   "display_name": "Python 3.10.2 64-bit",
   "language": "python",
   "name": "python3"
  },
  "language_info": {
   "codemirror_mode": {
    "name": "ipython",
    "version": 3
   },
   "file_extension": ".py",
   "mimetype": "text/x-python",
   "name": "python",
   "nbconvert_exporter": "python",
   "pygments_lexer": "ipython3",
   "version": "3.10.2"
  },
  "orig_nbformat": 4,
  "vscode": {
   "interpreter": {
    "hash": "fc1c16f227afd54009a1a9c07ed6baedd970033adb9b890bbfc7ebc8d384cda3"
   }
  }
 },
 "nbformat": 4,
 "nbformat_minor": 2
}
